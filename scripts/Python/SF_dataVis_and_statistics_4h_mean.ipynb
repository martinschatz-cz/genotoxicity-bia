{
 "cells": [
  {
   "cell_type": "code",
   "execution_count": 1,
   "metadata": {
    "colab": {
     "base_uri": "https://localhost:8080/"
    },
    "id": "JJi3IHNy5Y3R",
    "outputId": "812de1b3-2e0c-4479-99eb-d80264df568d",
    "tags": []
   },
   "outputs": [],
   "source": [
    "!pip install -r requirements.txt --quiet"
   ]
  },
  {
   "cell_type": "code",
   "execution_count": 2,
   "metadata": {
    "id": "owvhovUTfLtP",
    "tags": []
   },
   "outputs": [],
   "source": [
    "import os\n",
    "import shutil\n",
    "\n",
    "import matplotlib.pyplot as plt\n",
    "import pandas as pd\n",
    "import seaborn as sns\n",
    "from pandas import DataFrame\n",
    "from scipy.stats import mannwhitneyu, normaltest\n",
    "from statannotations.Annotator import Annotator\n",
    "from watermark import watermark"
   ]
  },
  {
   "cell_type": "code",
   "execution_count": 3,
   "metadata": {
    "cellView": "form",
    "id": "pjtIqxBQmM9g",
    "jupyter": {
     "source_hidden": true
    },
    "tags": []
   },
   "outputs": [],
   "source": [
    "# @title\n",
    "def visSets(set1: list, set2: list, csvpath: str) -> [DataFrame, DataFrame]:\n",
    "    \"\"\"\n",
    "    Visualize sets of data from csv files in a given directory\n",
    "\n",
    "    Parameters:\n",
    "    set1 (list): List of strings indicating well names for set 1\n",
    "    set2 (list): List of strings indicating well names for set 2\n",
    "    csvpath (str): Path to directory containing csv files\n",
    "\n",
    "    Returns:\n",
    "    Tuple: A tuple of two pandas dataframes, containing data from well_set1 and well_set2 respectively\n",
    "\n",
    "    \"\"\"\n",
    "    dir_list = os.listdir(csvpath)\n",
    "    print(\"Files and directories in '\", path, \"' :\")\n",
    "\n",
    "    well_set1 = pd.DataFrame()\n",
    "    well_set2 = pd.DataFrame()\n",
    "\n",
    "    # read csv of set 1\n",
    "    for well in set1:\n",
    "        for csv in dir_list:\n",
    "            if csv.find(well, 0, 3) > -1:\n",
    "                csv_set = pd.read_csv(csvpath + csv, sep=\",\")\n",
    "                csv_set[\"Well\"] = well\n",
    "                well_set1 = pd.concat([well_set1, csv_set])\n",
    "\n",
    "    # read csv of set 2\n",
    "    for well in set2:\n",
    "        for csv in dir_list:\n",
    "            if csv.find(well, 0, 3) > -1:\n",
    "                csv_set = pd.read_csv(csvpath + csv, sep=\",\")\n",
    "                csv_set[\"Well\"] = well\n",
    "                well_set2 = pd.concat([well_set2, csv_set])\n",
    "\n",
    "    return well_set1, well_set2"
   ]
  },
  {
   "cell_type": "code",
   "execution_count": 4,
   "metadata": {
    "cellView": "form",
    "id": "iCWuTHMJgzuR",
    "jupyter": {
     "source_hidden": true
    },
    "tags": []
   },
   "outputs": [],
   "source": [
    "# @title\n",
    "def pltoSet1(B23: DataFrame):\n",
    "    \"\"\"\n",
    "    This function creates a box plot using the Seaborn library. It takes a pandas DataFrame as input\n",
    "    and visualizes the distribution of \"Mean\" values for different \"Well\" categories.\n",
    "    The plot is created with a logarithmic x axis, horizontal boxes and grid lines for the x axis.\n",
    "    The y axis is labeled with \"Mean\".\n",
    "\n",
    "    Parameters:\n",
    "    B23 (pd.DataFrame): A pandas DataFrame with columns \"Well\" and \"Mean\".\n",
    "\n",
    "    Returns:\n",
    "    None\n",
    "    \"\"\"\n",
    "    sns.set_theme(style=\"ticks\")\n",
    "\n",
    "    # Initialize the figure with a logarithmic x axis\n",
    "    f, ax = plt.subplots(figsize=(7, 6))\n",
    "\n",
    "    # Plot the orbital period with horizontal boxes\n",
    "    sns.boxplot(\n",
    "        x=\"Well\",\n",
    "        y=\"Mean\",\n",
    "        data=B23,\n",
    "        width=0.6,\n",
    "        palette=\"vlag\",\n",
    "        showfliers=False,\n",
    "    )\n",
    "\n",
    "    # Add in points to show each observation\n",
    "    # sns.swarmplot(x=\"Well\", y=\"Mean\", data=B23,\n",
    "    #              size=3, palette=\"vlag\")\n",
    "\n",
    "    # Tweak the visual presentation\n",
    "    ax.xaxis.grid(True)\n",
    "    ax.set(ylabel=\"Mean\")\n",
    "    sns.despine(trim=True, left=True)"
   ]
  },
  {
   "cell_type": "code",
   "execution_count": 5,
   "metadata": {
    "cellView": "form",
    "id": "QgncULaJ8ioF",
    "tags": []
   },
   "outputs": [],
   "source": [
    "# @title\n",
    "def norm_test(data: list, name: str):\n",
    "    \"\"\"\n",
    "    Performs a normality test on a given data sample and returns a conclusion on whether the data is from a normal distribution.\n",
    "\n",
    "    Inputs:\n",
    "    data (list): A list of numerical values representing the data sample\n",
    "    name (str): A string that represents the name of the data sample\n",
    "\n",
    "    Outputs:\n",
    "    None\n",
    "\n",
    "    Side effects:\n",
    "    Prints the p-value and the conclusion of the normality test on the data sample.\n",
    "\n",
    "    Example:\n",
    "    >>> norm_test([1, 2, 3, 4, 5], \"Sample Data\")\n",
    "    p = 0.157298\n",
    "    null hypothesis: Sample Data comes from a normal distribution\n",
    "    The null hypothesis cannot be rejected\n",
    "    \"\"\"\n",
    "    k2, p = normaltest(data)\n",
    "    alpha = 1e-3\n",
    "    print(\"p = {:g}\".format(p))\n",
    "    print(\"null hypothesis: {} comes from a normal distribution\".format(name))\n",
    "    if p < alpha:  # null hypothesis: Data2 (Aptamil) from a normal distribution\n",
    "        print(\"The null hypothesis can be rejected\")\n",
    "    else:\n",
    "        print(\"The null hypothesis cannot be rejected\")\n",
    "    print(\"\")"
   ]
  },
  {
   "cell_type": "code",
   "execution_count": 6,
   "metadata": {
    "cellView": "form",
    "id": "V5cqsw-Hu-yS",
    "jupyter": {
     "source_hidden": true
    },
    "tags": []
   },
   "outputs": [],
   "source": [
    "# @title\n",
    "def visStats(set1: list, set2: list, path: str, stat_text: str, fig_name: str):\n",
    "    \"\"\"\n",
    "    visStats(set1: list, set2: list, path: str, stat_text: str, fig_name: str):\n",
    "\n",
    "    This function generates visualization of statistics between two sets of data and saves the figure to current path.\n",
    "\n",
    "    set1: list\n",
    "    A list of strings containing the name of each well in the first set.\n",
    "    set2: list\n",
    "    A list of strings containing the name of each well in the second set.\n",
    "    path: str\n",
    "    The path to the directory where the figure will be saved.\n",
    "    stat_text: str\n",
    "    The text to be added to the plot as a title or subtitle.\n",
    "    fig_name: str\n",
    "    The name of the figure file to be saved.\n",
    "\n",
    "    Returns: None\n",
    "    \"\"\"\n",
    "\n",
    "    well_set1, well_set2 = visSets(set1, set2, path)\n",
    "    well_set1[\"Set\"] = 1\n",
    "    well_set1[\"Well\"].describe()\n",
    "\n",
    "    well_set2[\"Set\"] = 2\n",
    "    well_set2[\"Well\"].describe()\n",
    "\n",
    "    pltoSet1(well_set1)\n",
    "    pltoSet1(well_set2)\n",
    "\n",
    "    print(\"Statistics:\")\n",
    "    print(\"\")\n",
    "\n",
    "    csv_all = pd.concat([well_set1, well_set2])\n",
    "\n",
    "    sns.set_theme(style=\"ticks\")\n",
    "\n",
    "    # Initialize the figure with a logarithmic x axis\n",
    "    f, ax = plt.subplots(figsize=(7, 6))\n",
    "\n",
    "    # Plot the orbital period with horizontal boxes\n",
    "    sns.boxplot(\n",
    "        x=\"Well\",\n",
    "        y=\"Mean\",\n",
    "        data=csv_all,\n",
    "        width=0.6,\n",
    "        hue=\"Set\",\n",
    "        palette=[\"m\", \"g\"],\n",
    "    )\n",
    "\n",
    "    # Add in points to show each observation\n",
    "    # sns.swarmplot(x=\"Well\", y=\"Mean\", data=B23,\n",
    "    #              size=3, palette=\"vlag\")\n",
    "\n",
    "    # Tweak the visual presentation\n",
    "    # ax.xaxis.grid(True)\n",
    "    ax.set(ylabel=\"Mean\")\n",
    "    sns.move_legend(ax, \"upper left\", bbox_to_anchor=(1, 1))\n",
    "    # sns.despine(trim=True, left=True)\n",
    "\n",
    "    for well in set1:\n",
    "        norm_test(csv_all[csv_all[\"Well\"] == well].Mean, well)\n",
    "\n",
    "    for well in set2:\n",
    "        norm_test(csv_all[csv_all[\"Well\"] == well].Mean, well)\n",
    "\n",
    "    # pvalues with scipy:\n",
    "    stat_results = [\n",
    "        mannwhitneyu(\n",
    "            csv_all[csv_all[\"Well\"] == set1[0]].Mean,\n",
    "            csv_all[csv_all[\"Well\"] == set2[0]].Mean,\n",
    "            alternative=\"two-sided\",\n",
    "        ),\n",
    "        mannwhitneyu(\n",
    "            csv_all[csv_all[\"Well\"] == set1[0]].Mean,\n",
    "            csv_all[csv_all[\"Well\"] == set2[1]].Mean,\n",
    "            alternative=\"two-sided\",\n",
    "        ),\n",
    "        mannwhitneyu(\n",
    "            csv_all[csv_all[\"Well\"] == set1[0]].Mean,\n",
    "            csv_all[csv_all[\"Well\"] == set2[2]].Mean,\n",
    "            alternative=\"two-sided\",\n",
    "        ),\n",
    "        mannwhitneyu(\n",
    "            csv_all[csv_all[\"Well\"] == set1[1]].Mean,\n",
    "            csv_all[csv_all[\"Well\"] == set2[0]].Mean,\n",
    "            alternative=\"two-sided\",\n",
    "        ),\n",
    "        mannwhitneyu(\n",
    "            csv_all[csv_all[\"Well\"] == set1[1]].Mean,\n",
    "            csv_all[csv_all[\"Well\"] == set2[1]].Mean,\n",
    "            alternative=\"two-sided\",\n",
    "        ),\n",
    "        mannwhitneyu(\n",
    "            csv_all[csv_all[\"Well\"] == set1[1]].Mean,\n",
    "            csv_all[csv_all[\"Well\"] == set2[2]].Mean,\n",
    "            alternative=\"two-sided\",\n",
    "        ),\n",
    "        mannwhitneyu(\n",
    "            csv_all[csv_all[\"Well\"] == set1[2]].Mean,\n",
    "            csv_all[csv_all[\"Well\"] == set2[0]].Mean,\n",
    "            alternative=\"two-sided\",\n",
    "        ),\n",
    "        mannwhitneyu(\n",
    "            csv_all[csv_all[\"Well\"] == set1[2]].Mean,\n",
    "            csv_all[csv_all[\"Well\"] == set2[1]].Mean,\n",
    "            alternative=\"two-sided\",\n",
    "        ),\n",
    "        mannwhitneyu(\n",
    "            csv_all[csv_all[\"Well\"] == set1[2]].Mean,\n",
    "            csv_all[csv_all[\"Well\"] == set2[2]].Mean,\n",
    "            alternative=\"two-sided\",\n",
    "        ),\n",
    "        # mannwhitneyu(robots, sound, alternative=\"two-sided\")\n",
    "    ]\n",
    "\n",
    "    pvalues = [result.pvalue for result in stat_results]\n",
    "    print(pvalues)\n",
    "\n",
    "    pairs = [\n",
    "        (set1[0], set2[0]),\n",
    "        (set1[0], set2[1]),\n",
    "        (set1[0], set2[2]),\n",
    "        (set1[1], set2[0]),\n",
    "        (set1[1], set2[1]),\n",
    "        (set1[1], set2[2]),\n",
    "        (set1[2], set2[0]),\n",
    "        (set1[2], set2[1]),\n",
    "        (set1[2], set2[2]),\n",
    "        #  ('Robots', 'Sound')   # 'Robots' vs 'Sound'\n",
    "    ]\n",
    "\n",
    "    formatted_pvalues = [f\"p={p:.2e}\" for p in pvalues]\n",
    "\n",
    "    # prepare plots\n",
    "    subcat_palette = sns.dark_palette(\"#8BF\", reverse=True, n_colors=5)\n",
    "    states_palette = sns.color_palette(\"YlGnBu\", n_colors=5)\n",
    "\n",
    "    cmap = sns.color_palette(\"colorblind\")\n",
    "    plotting_parameters = {\n",
    "        \"data\": csv_all,\n",
    "        \"x\": \"Well\",\n",
    "        \"y\": \"Mean\",\n",
    "        \"showfliers\": False,\n",
    "        \"width\": 0.6,\n",
    "        #'hue':\"Set\",\n",
    "        \"palette\": [cmap[0], cmap[1], cmap[4], cmap[0], cmap[1], cmap[4]],\n",
    "    }\n",
    "\n",
    "    # show results\n",
    "    with sns.plotting_context(\"notebook\", font_scale=1.4):\n",
    "        # Create new plot\n",
    "        fig, ax = plt.subplots(1, 1, figsize=(12, 6))\n",
    "\n",
    "        # Plot with seaborn\n",
    "        sns.boxplot(**plotting_parameters)\n",
    "\n",
    "        # Add annotations\n",
    "        annotator = Annotator(ax, pairs, **plotting_parameters)\n",
    "        ## p values\n",
    "        # annotator.set_custom_annotations(formatted_pvalues)\n",
    "        # annotator.annotate()\n",
    "\n",
    "        ## <> p values\n",
    "        annotator.configure(text_format=\"simple\")\n",
    "        annotator.set_pvalues(pvalues).annotate()\n",
    "\n",
    "        # Label and show\n",
    "        plt.title(stat_text, y=1.06)\n",
    "\n",
    "        plt.savefig(\"./\" + fig_name + \".png\", bbox_inches=\"tight\")\n",
    "        plt.show()"
   ]
  },
  {
   "cell_type": "code",
   "execution_count": 17,
   "metadata": {
    "id": "hmbWzQb4ljo9",
    "tags": []
   },
   "outputs": [],
   "source": [
    "# CHOK1 kontrola: B4, C4, D4\n",
    "# vs\n",
    "# CHOK1 Val30: B2, C2, D2; a CHOK1 Val15: B3, C3 a D3\n",
    "\n",
    "set1 = [\"B2\", \"C2\", \"D2\"] #ok\n",
    "set2 = [\"B3\", \"C3\", \"D3\"]\n",
    "\n",
    "# set1 = [\"B2\", \"C2\", \"D2\"] #ok\n",
    "# set2 = [\"B4\", \"C4\", \"D4\"]\n",
    "\n",
    "\n",
    "# HeLa kontrola: B8, C8, D8\n",
    "# Vs\n",
    "# HeLa Val30: B6, C6, D6; a HeLa Val15: B7, C7 a D7\n",
    "\n",
    "# set1 = [\"B8\", \"C8\", \"D8\"]  # ok\n",
    "# set2 = [\"B6\", \"C6\", \"D6\"]\n",
    "\n",
    "# set1 = [\"B8\", \"C8\", \"D8\"] #ok\n",
    "# set2 = [\"B7\", \"C7\", \"D7\"]"
   ]
  },
  {
   "cell_type": "code",
   "execution_count": 18,
   "metadata": {
    "id": "exmV_SZKe8oU"
   },
   "outputs": [],
   "source": [
    "path = \"Results_24h/\""
   ]
  },
  {
   "cell_type": "code",
   "execution_count": 19,
   "metadata": {
    "cellView": "form",
    "colab": {
     "base_uri": "https://localhost:8080/"
    },
    "id": "pwfcdL-klRaM",
    "outputId": "bc2eee48-e5cc-4031-b485-47f0303e4534"
   },
   "outputs": [
    {
     "name": "stdout",
     "output_type": "stream",
     "text": [
      "Files and directories in ' Results_24h/ ' :\n",
      "['B2_AllResults_2023-2-7_Results.csv', 'B3_AllResults_2023-2-7_Results.csv', 'B4_AllResults_2023-2-7_Results.csv', 'B6_AllResults_2023-2-7_Results.csv', 'B7_AllResults_2023-2-7_Results.csv', 'B8_AllResults_2023-2-7_Results.csv', 'C2_AllResults_2023-2-7_Results.csv', 'C3_AllResults_2023-2-7_Results.csv', 'C4_AllResults_2023-2-7_Results.csv', 'C6_AllResults_2023-2-7_Results.csv', 'C7_AllResults_2023-2-7_Results.csv', 'C8_AllResults_2023-2-7_Results.csv', 'D2_AllResults_2023-2-7_Results.csv', 'D3_AllResults_2023-2-7_Results.csv', 'D4_AllResults_2023-2-7_Results.csv', 'D6_AllResults_2023-2-7_Results.csv', 'D7_AllResults_2023-2-7_Results.csv', 'D8_AllResults_2023-2-7_Results.csv']\n"
     ]
    }
   ],
   "source": [
    "# @title\n",
    "dir_list = os.listdir(path)\n",
    "\n",
    "print(\"Files and directories in '\", path, \"' :\")\n",
    "\n",
    "# prints all files\n",
    "print(dir_list)"
   ]
  },
  {
   "cell_type": "code",
   "execution_count": 20,
   "metadata": {},
   "outputs": [
    {
     "name": "stdout",
     "output_type": "stream",
     "text": [
      "Files and directories in ' Results_24h/ ' :\n"
     ]
    },
    {
     "data": {
      "text/plain": [
       "count    2600.000000\n",
       "mean        0.081194\n",
       "std         0.260845\n",
       "min         0.000000\n",
       "25%         0.000000\n",
       "50%         0.000000\n",
       "75%         0.000000\n",
       "max         3.000000\n",
       "Name: Mean, dtype: float64"
      ]
     },
     "execution_count": 20,
     "metadata": {},
     "output_type": "execute_result"
    }
   ],
   "source": [
    "well_set1, well_set2 = visSets(set1, set2, path)\n",
    "well_set1[\"Set\"] = 1\n",
    "well_set1.Mean.describe()"
   ]
  },
  {
   "cell_type": "code",
   "execution_count": 21,
   "metadata": {},
   "outputs": [
    {
     "data": {
      "text/plain": [
       "count    1003.000000\n",
       "mean        0.074276\n",
       "std         0.410349\n",
       "min         0.000000\n",
       "25%         0.000000\n",
       "50%         0.000000\n",
       "75%         0.000000\n",
       "max         7.000000\n",
       "Name: Mean, dtype: float64"
      ]
     },
     "execution_count": 21,
     "metadata": {},
     "output_type": "execute_result"
    }
   ],
   "source": [
    "well_set2[\"Set\"] = 2\n",
    "well_set2.Mean.describe()"
   ]
  },
  {
   "cell_type": "code",
   "execution_count": 22,
   "metadata": {
    "jupyter": {
     "source_hidden": true
    },
    "tags": []
   },
   "outputs": [
    {
     "data": {
      "image/png": "[encoded data removed]",
      "text/plain": [
       "<Figure size 700x600 with 1 Axes>"
      ]
     },
     "metadata": {},
     "output_type": "display_data"
    }
   ],
   "source": [
    "sns.set_theme(style=\"ticks\")\n",
    "\n",
    "# Initialize the figure with a logarithmic x axis\n",
    "f, ax = plt.subplots(figsize=(7, 6))\n",
    "\n",
    "# Plot the orbital period with horizontal boxes\n",
    "sns.boxplot(\n",
    "    x=\"Well\",\n",
    "    y=\"Mean\",\n",
    "    data=well_set1,\n",
    "    width=0.6,\n",
    "    palette=\"vlag\",\n",
    "    showfliers=False,\n",
    ")\n",
    "\n",
    "# Add in points to show each observation\n",
    "# sns.swarmplot(x=\"Well\", y=\"Mean\", data=B23,\n",
    "#              size=3, palette=\"vlag\")\n",
    "\n",
    "# Tweak the visual presentation\n",
    "ax.xaxis.grid(True)\n",
    "ax.set(ylabel=\"Mean\")\n",
    "sns.despine(trim=True, left=True)"
   ]
  },
  {
   "cell_type": "code",
   "execution_count": 23,
   "metadata": {
    "colab": {
     "base_uri": "https://localhost:8080/"
    },
    "id": "RwVp89K_DZQm",
    "outputId": "c595585e-d2d6-420d-bb0f-29277d0963ea",
    "tags": []
   },
   "outputs": [
    {
     "name": "stdout",
     "output_type": "stream",
     "text": [
      "Files and directories in ' Results_24h/ ' :\n",
      "Mean Brigthnes\n",
      "Set1\n",
      "0.08119425384615385\n",
      "Set2\n",
      "0.07427574277168494\n",
      "Mean Area\n",
      "Set1\n",
      "0.00020442692307692304\n",
      "Set2\n",
      "0.00021621136590229312\n",
      "--Mean/Area--\n",
      "Set1\n",
      "397.17984609885053\n",
      "Set2\n",
      "343.5330166927972\n",
      "Fold: 0.8649306354967929\n"
     ]
    }
   ],
   "source": [
    "well_set1, well_set2 = visSets(set1, set2, path)\n",
    "well_set1[\"Set\"] = 1\n",
    "well_set1[\"Well\"].describe()\n",
    "\n",
    "well_set2[\"Set\"] = 2\n",
    "well_set2[\"Well\"].describe()\n",
    "\n",
    "\n",
    "print(\"Mean Brigthnes\")\n",
    "print(\"Set1\")\n",
    "print(well_set1[\"Mean\"].mean())\n",
    "print(\"Set2\")\n",
    "print(well_set2[\"Mean\"].mean())\n",
    "\n",
    "print(\"Mean Area\")\n",
    "print(\"Set1\")\n",
    "print(well_set1[\"Area\"].mean())\n",
    "print(\"Set2\")\n",
    "print(well_set2[\"Area\"].mean())\n",
    "\n",
    "print(\"--Mean/Area--\")\n",
    "print(\"Set1\")\n",
    "m2a1 = well_set1[\"Mean\"].mean() / well_set1[\"Area\"].mean()\n",
    "print(m2a1)\n",
    "print(\"Set2\")\n",
    "m2a2 = well_set2[\"Mean\"].mean() / well_set2[\"Area\"].mean()\n",
    "print(m2a2)\n",
    "\n",
    "print(\"Fold: {}\".format(m2a2 / m2a1))"
   ]
  },
  {
   "cell_type": "code",
   "execution_count": 24,
   "metadata": {
    "colab": {
     "base_uri": "https://localhost:8080/",
     "height": 1000
    },
    "id": "M-D-_j8qwKlN",
    "outputId": "f446e555-320b-4934-eb71-4fcac848bc8c"
   },
   "outputs": [
    {
     "name": "stdout",
     "output_type": "stream",
     "text": [
      "Files and directories in ' Results_24h/ ' :\n",
      "Statistics:\n",
      "\n",
      "p = 1.28672e-154\n",
      "null hypothesis: B2 comes from a normal distribution\n",
      "The null hypothesis can be rejected\n",
      "\n",
      "p = 1.78114e-132\n",
      "null hypothesis: C2 comes from a normal distribution\n",
      "The null hypothesis can be rejected\n",
      "\n",
      "p = 2.75966e-138\n",
      "null hypothesis: D2 comes from a normal distribution\n",
      "The null hypothesis can be rejected\n",
      "\n",
      "p = 4.24683e-165\n",
      "null hypothesis: B3 comes from a normal distribution\n",
      "The null hypothesis can be rejected\n",
      "\n",
      "p = 1.21652e-124\n",
      "null hypothesis: C3 comes from a normal distribution\n",
      "The null hypothesis can be rejected\n",
      "\n",
      "p = 6.6215e-42\n",
      "null hypothesis: D3 comes from a normal distribution\n",
      "The null hypothesis can be rejected\n",
      "\n",
      "[1.4436132850820867e-06, 0.23866397225950742, 0.7657582600070457, 0.00046368584144167575, 0.6752605396361612, 0.06361928621875049, 3.140033101577744e-08, 0.04965201835510927, 0.7071774278157301]\n",
      "D2 vs. B3: Custom statistical test, P_val:3.140e-08\n",
      "C2 vs. B3: Custom statistical test, P_val:4.637e-04\n",
      "D2 vs. C3: Custom statistical test, P_val:4.965e-02\n",
      "B2 vs. B3: Custom statistical test, P_val:1.444e-06\n",
      "C2 vs. C3: Custom statistical test, P_val:6.753e-01\n",
      "D2 vs. D3: Custom statistical test, P_val:7.072e-01\n",
      "B2 vs. C3: Custom statistical test, P_val:2.387e-01\n",
      "C2 vs. D3: Custom statistical test, P_val:6.362e-02\n",
      "B2 vs. D3: Custom statistical test, P_val:7.658e-01\n"
     ]
    },
    {
     "data": {
      "image/png": "[encoded data removed]",
      "text/plain": [
       "<Figure size 700x600 with 1 Axes>"
      ]
     },
     "metadata": {},
     "output_type": "display_data"
    },
    {
     "data": {
      "image/png": "[encoded data removed]",
      "text/plain": [
       "<Figure size 700x600 with 1 Axes>"
      ]
     },
     "metadata": {},
     "output_type": "display_data"
    },
    {
     "data": {
      "image/png": "[encoded data removed]",
      "text/plain": [
       "<Figure size 700x600 with 1 Axes>"
      ]
     },
     "metadata": {},
     "output_type": "display_data"
    },
    {
     "data": {
      "image/png": "[encoded data removed]",
      "text/plain": [
       "<Figure size 1200x600 with 1 Axes>"
      ]
     },
     "metadata": {},
     "output_type": "display_data"
    }
   ],
   "source": [
    "visStats(\n",
    "    set1,\n",
    "    set2,\n",
    "    path,\n",
    "    \"Cy3 channel (fold: {:.2f})\".format(m2a2 / m2a1),\n",
    "    \"24H_\" + \"\".join(set1) + \"\".join(set2),\n",
    ")"
   ]
  },
  {
   "cell_type": "code",
   "execution_count": 25,
   "metadata": {
    "tags": []
   },
   "outputs": [
    {
     "name": "stdout",
     "output_type": "stream",
     "text": [
      "Last updated: 2023-02-08T07:03:47.385126+01:00\n",
      "\n",
      "Python implementation: CPython\n",
      "Python version       : 3.9.16\n",
      "IPython version      : 8.9.0\n",
      "\n",
      "Compiler    : MSC v.1929 64 bit (AMD64)\n",
      "OS          : Windows\n",
      "Release     : 10\n",
      "Machine     : AMD64\n",
      "Processor   : Intel64 Family 6 Model 60 Stepping 3, GenuineIntel\n",
      "CPU cores   : 8\n",
      "Architecture: 64bit\n",
      "\n"
     ]
    }
   ],
   "source": [
    "watermark(iversions=True, globals_=globals())\n",
    "print(watermark())"
   ]
  },
  {
   "cell_type": "code",
   "execution_count": 26,
   "metadata": {
    "tags": []
   },
   "outputs": [
    {
     "name": "stdout",
     "output_type": "stream",
     "text": [
      "watermark      : 2.3.1\n",
      "numpy          : 1.24.1\n",
      "pandas         : 1.5.3\n",
      "seaborn        : 0.11.2\n",
      "scipy          : 1.10.0\n",
      "statannotations: 0.5.0\n",
      "statsmodels    : 0.13.5\n",
      "\n"
     ]
    }
   ],
   "source": [
    "print(\n",
    "    watermark(\n",
    "        packages=\"watermark,numpy,pandas,seaborn,scipy,statannotations,statsmodels\"\n",
    "    )\n",
    ")"
   ]
  },
  {
   "cell_type": "code",
   "execution_count": null,
   "metadata": {},
   "outputs": [],
   "source": []
  }
 ],
 "metadata": {
  "colab": {
   "provenance": []
  },
  "kernelspec": {
   "display_name": "Python 3 (ipykernel)",
   "language": "python",
   "name": "python3"
  },
  "language_info": {
   "codemirror_mode": {
    "name": "ipython",
    "version": 3
   },
   "file_extension": ".py",
   "mimetype": "text/x-python",
   "name": "python",
   "nbconvert_exporter": "python",
   "pygments_lexer": "ipython3",
   "version": "3.9.16"
  }
 },
 "nbformat": 4,
 "nbformat_minor": 4
}
