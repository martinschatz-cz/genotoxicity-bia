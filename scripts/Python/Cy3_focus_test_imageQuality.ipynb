{
 "cells": [
  {
   "cell_type": "code",
   "execution_count": 1,
   "id": "f8c21c31-c11a-402b-be64-9931b902b0c2",
   "metadata": {
    "tags": []
   },
   "outputs": [
    {
     "name": "stderr",
     "output_type": "stream",
     "text": [
      "ERROR: Could not open requirements file: [Errno 2] No such file or directory: 'requirements.txt'\n"
     ]
    },
    {
     "name": "stdout",
     "output_type": "stream",
     "text": [
      "Collecting git+https://github.com/sakoho81/pyimagequalityranking.git\n",
      "  Cloning https://github.com/sakoho81/pyimagequalityranking.git to c:\\users\\mspat\\appdata\\local\\temp\\pip-req-build-qsh0ndyy\n",
      "  Resolved https://github.com/sakoho81/pyimagequalityranking.git to commit 094b0b9f79f7f78853a79d71be686f91491e0574\n",
      "  Preparing metadata (setup.py): started\n",
      "  Preparing metadata (setup.py): finished with status 'done'\n",
      "Requirement already satisfied: numpy in c:\\users\\mspat\\.conda\\envs\\julab\\lib\\site-packages (from pyimq==0.1) (1.24.1)\n",
      "Requirement already satisfied: scipy in c:\\users\\mspat\\.conda\\envs\\julab\\lib\\site-packages (from pyimq==0.1) (1.10.0)\n",
      "Requirement already satisfied: pandas in c:\\users\\mspat\\.conda\\envs\\julab\\lib\\site-packages (from pyimq==0.1) (1.5.3)\n",
      "Requirement already satisfied: matplotlib in c:\\users\\mspat\\.conda\\envs\\julab\\lib\\site-packages (from pyimq==0.1) (3.6.3)\n",
      "Requirement already satisfied: cycler>=0.10 in c:\\users\\mspat\\.conda\\envs\\julab\\lib\\site-packages (from matplotlib->pyimq==0.1) (0.11.0)\n",
      "Requirement already satisfied: packaging>=20.0 in c:\\users\\mspat\\.conda\\envs\\julab\\lib\\site-packages (from matplotlib->pyimq==0.1) (23.0)\n",
      "Requirement already satisfied: python-dateutil>=2.7 in c:\\users\\mspat\\.conda\\envs\\julab\\lib\\site-packages (from matplotlib->pyimq==0.1) (2.8.2)\n",
      "Requirement already satisfied: kiwisolver>=1.0.1 in c:\\users\\mspat\\.conda\\envs\\julab\\lib\\site-packages (from matplotlib->pyimq==0.1) (1.4.4)\n",
      "Requirement already satisfied: pyparsing>=2.2.1 in c:\\users\\mspat\\.conda\\envs\\julab\\lib\\site-packages (from matplotlib->pyimq==0.1) (3.0.9)\n",
      "Requirement already satisfied: pillow>=6.2.0 in c:\\users\\mspat\\.conda\\envs\\julab\\lib\\site-packages (from matplotlib->pyimq==0.1) (9.4.0)\n",
      "Requirement already satisfied: contourpy>=1.0.1 in c:\\users\\mspat\\.conda\\envs\\julab\\lib\\site-packages (from matplotlib->pyimq==0.1) (1.0.7)\n",
      "Requirement already satisfied: fonttools>=4.22.0 in c:\\users\\mspat\\.conda\\envs\\julab\\lib\\site-packages (from matplotlib->pyimq==0.1) (4.38.0)\n",
      "Requirement already satisfied: pytz>=2020.1 in c:\\users\\mspat\\.conda\\envs\\julab\\lib\\site-packages (from pandas->pyimq==0.1) (2022.7.1)\n",
      "Requirement already satisfied: six>=1.5 in c:\\users\\mspat\\.conda\\envs\\julab\\lib\\site-packages (from python-dateutil>=2.7->matplotlib->pyimq==0.1) (1.16.0)\n"
     ]
    },
    {
     "name": "stderr",
     "output_type": "stream",
     "text": [
      "  Running command git clone --filter=blob:none --quiet https://github.com/sakoho81/pyimagequalityranking.git 'C:\\Users\\mspat\\AppData\\Local\\Temp\\pip-req-build-qsh0ndyy'\n"
     ]
    }
   ],
   "source": [
    "!pip install -r requirements.txt\n",
    "!pip install git+https://github.com/sakoho81/pyimagequalityranking.git"
   ]
  },
  {
   "cell_type": "code",
   "execution_count": 2,
   "id": "e7e643ff-cc74-4d8c-acea-3c22aa6a9f6a",
   "metadata": {
    "tags": []
   },
   "outputs": [
    {
     "name": "stdout",
     "output_type": "stream",
     "text": [
      "Mode option is ['directory', 'analyze', 'plot']\n",
      "Done analyzing Snapshot20230209_DMSO_Cy3_TIF.tif\n",
      "Done analyzing Snapshot20230209_Val15_Cy3_TIF.tif\n",
      "Done analyzing Snapshot20230209_Val30_CY3_TIF.tif\n",
      "The results were saved to Cy3\\2023-02-09_PyIQ_output\\18-38-16_PyIQ_out.csv\n",
      "The results were saved to Cy3\\2023-02-09_PyIQ_output\\18-38-19_PyIQ_analyze_out.csv\n",
      "Cy3\\Snapshot20230209_DMSO_Cy3_TIF.tif\n",
      "Cy3\\Snapshot20230209_Val15_Cy3_TIF.tif\n",
      "Cy3\\Snapshot20230209_Val15_Cy3_TIF.tif\n",
      "Figure(640x480)\n",
      "Cy3\\Snapshot20230209_DMSO_Cy3_TIF.tif\n",
      "Cy3\\Snapshot20230209_Val15_Cy3_TIF.tif\n",
      "Cy3\\Snapshot20230209_Val15_Cy3_TIF.tif\n",
      "Figure(640x480)\n"
     ]
    }
   ],
   "source": [
    "!pyimq.main --mode=directory --mode=analyze --mode=plot \\\n",
    "--working-directory=Cy3 --normalize-power --result=fstd"
   ]
  },
  {
   "cell_type": "code",
   "execution_count": 3,
   "id": "a2f66209-cb75-4e9d-9cb9-cd9c03ef6bcf",
   "metadata": {
    "tags": []
   },
   "outputs": [],
   "source": [
    "import pandas as pd\n",
    "import seaborn as sns"
   ]
  },
  {
   "cell_type": "code",
   "execution_count": 4,
   "id": "2492312c-d590-4647-b703-f64702da8175",
   "metadata": {
    "tags": []
   },
   "outputs": [
    {
     "data": {
      "text/html": [
       "<div>\n",
       "<style scoped>\n",
       "    .dataframe tbody tr th:only-of-type {\n",
       "        vertical-align: middle;\n",
       "    }\n",
       "\n",
       "    .dataframe tbody tr th {\n",
       "        vertical-align: top;\n",
       "    }\n",
       "\n",
       "    .dataframe thead th {\n",
       "        text-align: right;\n",
       "    }\n",
       "</style>\n",
       "<table border=\"1\" class=\"dataframe\">\n",
       "  <thead>\n",
       "    <tr style=\"text-align: right;\">\n",
       "      <th></th>\n",
       "      <th>Filename</th>\n",
       "      <th>tEntropy</th>\n",
       "      <th>tBrenner</th>\n",
       "      <th>fMoments</th>\n",
       "      <th>fMean</th>\n",
       "      <th>fSTD</th>\n",
       "      <th>fEntropy</th>\n",
       "      <th>fTh</th>\n",
       "      <th>fMaxPw</th>\n",
       "      <th>Skew</th>\n",
       "      <th>...</th>\n",
       "      <th>SpectMean</th>\n",
       "      <th>SpectSTDNorm</th>\n",
       "      <th>InvSpectSTDNorm</th>\n",
       "      <th>SpectEntNorm</th>\n",
       "      <th>SkewNorm</th>\n",
       "      <th>KurtosisNorm</th>\n",
       "      <th>SpectHighPowerNorm</th>\n",
       "      <th>MeanBinNorm</th>\n",
       "      <th>BrennerNorm</th>\n",
       "      <th>SpectMomentsNorm</th>\n",
       "    </tr>\n",
       "  </thead>\n",
       "  <tbody>\n",
       "    <tr>\n",
       "      <th>0</th>\n",
       "      <td>Cy3\\Snapshot20230209_DMSO_Cy3_TIF.tif</td>\n",
       "      <td>2.166181</td>\n",
       "      <td>4.906263e+10</td>\n",
       "      <td>11.487666</td>\n",
       "      <td>32420.708928</td>\n",
       "      <td>12840.382210</td>\n",
       "      <td>4.640108</td>\n",
       "      <td>2.424171e+09</td>\n",
       "      <td>21987.260055</td>\n",
       "      <td>0.895286</td>\n",
       "      <td>...</td>\n",
       "      <td>1.000000</td>\n",
       "      <td>1.000000</td>\n",
       "      <td>0.000000</td>\n",
       "      <td>0.929527</td>\n",
       "      <td>0.171192</td>\n",
       "      <td>0.601954</td>\n",
       "      <td>0.992782</td>\n",
       "      <td>1.000000</td>\n",
       "      <td>1.000000</td>\n",
       "      <td>0.831014</td>\n",
       "    </tr>\n",
       "    <tr>\n",
       "      <th>1</th>\n",
       "      <td>Cy3\\Snapshot20230209_Val15_Cy3_TIF.tif</td>\n",
       "      <td>2.056019</td>\n",
       "      <td>4.331591e+10</td>\n",
       "      <td>13.823671</td>\n",
       "      <td>28726.754254</td>\n",
       "      <td>8524.938145</td>\n",
       "      <td>4.648564</td>\n",
       "      <td>2.370800e+09</td>\n",
       "      <td>21790.891842</td>\n",
       "      <td>1.056265</td>\n",
       "      <td>...</td>\n",
       "      <td>0.886062</td>\n",
       "      <td>0.663916</td>\n",
       "      <td>0.336084</td>\n",
       "      <td>0.931220</td>\n",
       "      <td>0.022166</td>\n",
       "      <td>1.000000</td>\n",
       "      <td>0.983915</td>\n",
       "      <td>0.799994</td>\n",
       "      <td>0.882870</td>\n",
       "      <td>1.000000</td>\n",
       "    </tr>\n",
       "    <tr>\n",
       "      <th>2</th>\n",
       "      <td>Cy3\\Snapshot20230209_Val30_CY3_TIF.tif</td>\n",
       "      <td>2.247169</td>\n",
       "      <td>4.359494e+10</td>\n",
       "      <td>9.306871</td>\n",
       "      <td>24622.707751</td>\n",
       "      <td>2796.579424</td>\n",
       "      <td>4.991905</td>\n",
       "      <td>2.306652e+09</td>\n",
       "      <td>22147.120796</td>\n",
       "      <td>1.080209</td>\n",
       "      <td>...</td>\n",
       "      <td>0.759475</td>\n",
       "      <td>0.217796</td>\n",
       "      <td>0.782204</td>\n",
       "      <td>1.000000</td>\n",
       "      <td>0.000000</td>\n",
       "      <td>0.483582</td>\n",
       "      <td>1.000000</td>\n",
       "      <td>0.468743</td>\n",
       "      <td>0.888557</td>\n",
       "      <td>0.673256</td>\n",
       "    </tr>\n",
       "  </tbody>\n",
       "</table>\n",
       "<p>3 rows × 24 columns</p>\n",
       "</div>"
      ],
      "text/plain": [
       "                                 Filename  tEntropy      tBrenner   fMoments  \\\n",
       "0   Cy3\\Snapshot20230209_DMSO_Cy3_TIF.tif  2.166181  4.906263e+10  11.487666   \n",
       "1  Cy3\\Snapshot20230209_Val15_Cy3_TIF.tif  2.056019  4.331591e+10  13.823671   \n",
       "2  Cy3\\Snapshot20230209_Val30_CY3_TIF.tif  2.247169  4.359494e+10   9.306871   \n",
       "\n",
       "          fMean          fSTD  fEntropy           fTh        fMaxPw      Skew  \\\n",
       "0  32420.708928  12840.382210  4.640108  2.424171e+09  21987.260055  0.895286   \n",
       "1  28726.754254   8524.938145  4.648564  2.370800e+09  21790.891842  1.056265   \n",
       "2  24622.707751   2796.579424  4.991905  2.306652e+09  22147.120796  1.080209   \n",
       "\n",
       "   ...  SpectMean  SpectSTDNorm  InvSpectSTDNorm  SpectEntNorm  SkewNorm  \\\n",
       "0  ...   1.000000      1.000000         0.000000      0.929527  0.171192   \n",
       "1  ...   0.886062      0.663916         0.336084      0.931220  0.022166   \n",
       "2  ...   0.759475      0.217796         0.782204      1.000000  0.000000   \n",
       "\n",
       "   KurtosisNorm  SpectHighPowerNorm  MeanBinNorm  BrennerNorm  \\\n",
       "0      0.601954            0.992782     1.000000     1.000000   \n",
       "1      1.000000            0.983915     0.799994     0.882870   \n",
       "2      0.483582            1.000000     0.468743     0.888557   \n",
       "\n",
       "   SpectMomentsNorm  \n",
       "0          0.831014  \n",
       "1          1.000000  \n",
       "2          0.673256  \n",
       "\n",
       "[3 rows x 24 columns]"
      ]
     },
     "execution_count": 4,
     "metadata": {},
     "output_type": "execute_result"
    }
   ],
   "source": [
    "imaq_24h=pd.read_csv('Cy3/2023-02-09_PyIQ_output/18-38-19_PyIQ_analyze_out.csv')\n",
    "imaq_24h.tail()"
   ]
  },
  {
   "cell_type": "code",
   "execution_count": 5,
   "id": "bb44cb50-a5b8-418b-972e-a8dd4a0b8dcf",
   "metadata": {
    "tags": []
   },
   "outputs": [
    {
     "data": {
      "text/plain": [
       "<AxesSubplot: xlabel='fSTD', ylabel='Count'>"
      ]
     },
     "execution_count": 5,
     "metadata": {},
     "output_type": "execute_result"
    },
    {
     "data": {
      "image/png": "[encoded data removed]",
      "text/plain": [
       "<Figure size 700x500 with 1 Axes>"
      ]
     },
     "metadata": {},
     "output_type": "display_data"
    }
   ],
   "source": [
    "import seaborn as sns\n",
    "import matplotlib as mpl\n",
    "import matplotlib.pyplot as plt\n",
    "\n",
    "sns.set_theme(style=\"ticks\")\n",
    "\n",
    "f, ax = plt.subplots(figsize=(7, 5))\n",
    "sns.despine(f)\n",
    "\n",
    "sns.histplot(\n",
    "    data=imaq_24h, \n",
    "    x=\"fSTD\", \n",
    "    kde=True,\n",
    "    edgecolor=\".3\",\n",
    "    linewidth=.5,\n",
    ")\n",
    "# ax.xaxis.set_major_formatter(mpl.ticker.ScalarFormatter())\n",
    "# ax.set_xticks([5, 10, 20, 30, 50, 100])"
   ]
  },
  {
   "cell_type": "code",
   "execution_count": 7,
   "id": "f144f170-ea0a-4a40-8f50-4868f127d4b3",
   "metadata": {
    "tags": []
   },
   "outputs": [
    {
     "data": {
      "text/plain": [
       "<seaborn.axisgrid.FacetGrid at 0x14bc4067be0>"
      ]
     },
     "execution_count": 7,
     "metadata": {},
     "output_type": "execute_result"
    },
    {
     "data": {
      "image/png": "[encoded data removed]",
      "text/plain": [
       "<Figure size 695.625x500 with 1 Axes>"
      ]
     },
     "metadata": {},
     "output_type": "display_data"
    }
   ],
   "source": [
    "sns.set_theme(style=\"whitegrid\")\n",
    "\n",
    "\n",
    "cmap = sns.cubehelix_palette(rot=-.2, as_cmap=True)\n",
    "g = sns.relplot(\n",
    "    data=imaq_24h,\n",
    "    x=\"fSTD\", y=\"fMean\",\n",
    "    hue=\"fEntropy\",# size=\"fEntropy\",\n",
    "    palette=cmap, sizes=(10, 200),\n",
    ")\n",
    "# g.set(xscale=\"log\", yscale=\"log\")\n",
    "g.ax.xaxis.grid(True, \"minor\", linewidth=.25)\n",
    "g.ax.yaxis.grid(True, \"minor\", linewidth=.25)\n",
    "g.despine(left=True, bottom=True)"
   ]
  },
  {
   "cell_type": "code",
   "execution_count": 10,
   "id": "162f8050-7cfd-42a7-b85c-9b0168f8aa88",
   "metadata": {},
   "outputs": [],
   "source": [
    "imaq_24h_sel=imaq_24h[imaq_24h['fSTD']<3]"
   ]
  },
  {
   "cell_type": "code",
   "execution_count": 12,
   "id": "c201cf68-fee0-4dfd-aaf1-8789a6a58311",
   "metadata": {},
   "outputs": [
    {
     "data": {
      "text/plain": [
       "31"
      ]
     },
     "execution_count": 12,
     "metadata": {},
     "output_type": "execute_result"
    }
   ],
   "source": [
    "imaq_24h_sel.Filename.count()"
   ]
  },
  {
   "cell_type": "code",
   "execution_count": 15,
   "id": "efc41ad1-5084-46c1-afa8-a5a67ac29032",
   "metadata": {},
   "outputs": [],
   "source": [
    "imaq_24h_sel.to_csv('20230206_CHOK1_HeLa_24h_filterOut.csv', sep=\";\") "
   ]
  },
  {
   "cell_type": "code",
   "execution_count": null,
   "id": "928f1610-4c7e-403d-9f09-bb7fd0ac5b11",
   "metadata": {},
   "outputs": [],
   "source": []
  }
 ],
 "metadata": {
  "kernelspec": {
   "display_name": "Python 3 (ipykernel)",
   "language": "python",
   "name": "python3"
  },
  "language_info": {
   "codemirror_mode": {
    "name": "ipython",
    "version": 3
   },
   "file_extension": ".py",
   "mimetype": "text/x-python",
   "name": "python",
   "nbconvert_exporter": "python",
   "pygments_lexer": "ipython3",
   "version": "3.9.16"
  }
 },
 "nbformat": 4,
 "nbformat_minor": 5
}
