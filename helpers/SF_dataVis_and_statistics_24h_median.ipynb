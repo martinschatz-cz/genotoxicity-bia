{
 "cells": [
  {
   "cell_type": "code",
   "execution_count": 1,
   "metadata": {
    "colab": {
     "base_uri": "https://localhost:8080/"
    },
    "id": "JJi3IHNy5Y3R",
    "outputId": "812de1b3-2e0c-4479-99eb-d80264df568d",
    "tags": []
   },
   "outputs": [],
   "source": [
    "!pip install -r requirements.txt --quiet"
   ]
  },
  {
   "cell_type": "code",
   "execution_count": 2,
   "metadata": {
    "id": "owvhovUTfLtP",
    "tags": []
   },
   "outputs": [],
   "source": [
    "import os\n",
    "import shutil\n",
    "\n",
    "import matplotlib.pyplot as plt\n",
    "import pandas as pd\n",
    "import seaborn as sns\n",
    "from pandas import DataFrame\n",
    "from scipy.stats import mannwhitneyu, normaltest\n",
    "from statannotations.Annotator import Annotator\n",
    "from watermark import watermark"
   ]
  },
  {
   "cell_type": "code",
   "execution_count": 3,
   "metadata": {
    "cellView": "form",
    "id": "pjtIqxBQmM9g",
    "jupyter": {
     "source_hidden": true
    },
    "tags": []
   },
   "outputs": [],
   "source": [
    "# @title\n",
    "def visSets(set1: list, set2: list, csvpath: str) -> [DataFrame, DataFrame]:\n",
    "    \"\"\"\n",
    "    Visualize sets of data from csv files in a given directory\n",
    "\n",
    "    Parameters:\n",
    "    set1 (list): List of strings indicating well names for set 1\n",
    "    set2 (list): List of strings indicating well names for set 2\n",
    "    csvpath (str): Path to directory containing csv files\n",
    "\n",
    "    Returns:\n",
    "    Tuple: A tuple of two pandas dataframes, containing data from well_set1 and well_set2 respectively\n",
    "\n",
    "    \"\"\"\n",
    "    dir_list = os.listdir(csvpath)\n",
    "    print(\"Files and directories in '\", path, \"' :\")\n",
    "\n",
    "    well_set1 = pd.DataFrame()\n",
    "    well_set2 = pd.DataFrame()\n",
    "\n",
    "    # read csv of set 1\n",
    "    for well in set1:\n",
    "        for csv in dir_list:\n",
    "            if csv.find(well, 0, 3) > -1:\n",
    "                csv_set = pd.read_csv(csvpath + csv, sep=\",\")\n",
    "                csv_set[\"Well\"] = well\n",
    "                well_set1 = pd.concat([well_set1, csv_set])\n",
    "\n",
    "    # read csv of set 2\n",
    "    for well in set2:\n",
    "        for csv in dir_list:\n",
    "            if csv.find(well, 0, 3) > -1:\n",
    "                csv_set = pd.read_csv(csvpath + csv, sep=\",\")\n",
    "                csv_set[\"Well\"] = well\n",
    "                well_set2 = pd.concat([well_set2, csv_set])\n",
    "\n",
    "    return well_set1, well_set2"
   ]
  },
  {
   "cell_type": "code",
   "execution_count": 34,
   "metadata": {
    "cellView": "form",
    "id": "iCWuTHMJgzuR",
    "jupyter": {
     "source_hidden": true
    },
    "tags": []
   },
   "outputs": [],
   "source": [
    "# @title\n",
    "def pltoSet1(B23: DataFrame):\n",
    "    \"\"\"\n",
    "    This function creates a box plot using the Seaborn library. It takes a pandas DataFrame as input\n",
    "    and visualizes the distribution of \"Median\" values for different \"Well\" categories.\n",
    "    The plot is created with a logarithmic x axis, horizontal boxes and grid lines for the x axis.\n",
    "    The y axis is labeled with \"Median\".\n",
    "\n",
    "    Parameters:\n",
    "    B23 (pd.DataFrame): A pandas DataFrame with columns \"Well\" and \"Median\".\n",
    "\n",
    "    Returns:\n",
    "    None\n",
    "    \"\"\"\n",
    "    sns.set_theme(style=\"ticks\")\n",
    "\n",
    "    # Initialize the figure with a logarithmic x axis\n",
    "    f, ax = plt.subplots(figsize=(7, 6))\n",
    "\n",
    "    # Plot the orbital period with horizontal boxes\n",
    "    sns.boxplot(x=\"Well\", y=\"Median\", data=B23, width=0.6, palette=\"vlag\",showfliers=False,)\n",
    "\n",
    "    # Add in points to show each observation\n",
    "    # sns.swarmplot(x=\"Well\", y=\"Median\", data=B23,\n",
    "    #              size=3, palette=\"vlag\")\n",
    "\n",
    "    # Tweak the visual presentation\n",
    "    ax.xaxis.grid(True)\n",
    "    ax.set(ylabel=\"Median\")\n",
    "    sns.despine(trim=True, left=True)"
   ]
  },
  {
   "cell_type": "code",
   "execution_count": 35,
   "metadata": {
    "cellView": "form",
    "id": "QgncULaJ8ioF",
    "jupyter": {
     "source_hidden": true
    },
    "tags": []
   },
   "outputs": [],
   "source": [
    "# @title\n",
    "def norm_test(data: list, name: str):\n",
    "    \"\"\"\n",
    "    Performs a normality test on a given data sample and returns a conclusion on whether the data is from a normal distribution.\n",
    "\n",
    "    Inputs:\n",
    "    data (list): A list of numerical values representing the data sample\n",
    "    name (str): A string that represents the name of the data sample\n",
    "\n",
    "    Outputs:\n",
    "    None\n",
    "\n",
    "    Side effects:\n",
    "    Prints the p-value and the conclusion of the normality test on the data sample.\n",
    "\n",
    "    Example:\n",
    "    >>> norm_test([1, 2, 3, 4, 5], \"Sample Data\")\n",
    "    p = 0.157298\n",
    "    null hypothesis: Sample Data comes from a normal distribution\n",
    "    The null hypothesis cannot be rejected\n",
    "    \"\"\"\n",
    "    k2, p = normaltest(data)\n",
    "    alpha = 1e-3\n",
    "    print(\"p = {:g}\".format(p))\n",
    "    print(\"null hypothesis: {} comes from a normal distribution\".format(name))\n",
    "    if p < alpha:  # null hypothesis: Data2 (Aptamil) from a normal distribution\n",
    "        print(\"The null hypothesis can be rejected\")\n",
    "    else:\n",
    "        print(\"The null hypothesis cannot be rejected\")\n",
    "    print(\"\")"
   ]
  },
  {
   "cell_type": "code",
   "execution_count": 36,
   "metadata": {
    "cellView": "form",
    "id": "V5cqsw-Hu-yS",
    "jupyter": {
     "source_hidden": true
    },
    "tags": []
   },
   "outputs": [],
   "source": [
    "# @title\n",
    "def visStats(set1: list, set2: list, path: str, stat_text: str, fig_name: str):\n",
    "    \"\"\"\n",
    "    visStats(set1: list, set2: list, path: str, stat_text: str, fig_name: str):\n",
    "\n",
    "    This function generates visualization of statistics between two sets of data and saves the figure to current path.\n",
    "\n",
    "    set1: list\n",
    "    A list of strings containing the name of each well in the first set.\n",
    "    set2: list\n",
    "    A list of strings containing the name of each well in the second set.\n",
    "    path: str\n",
    "    The path to the directory where the figure will be saved.\n",
    "    stat_text: str\n",
    "    The text to be added to the plot as a title or subtitle.\n",
    "    fig_name: str\n",
    "    The name of the figure file to be saved.\n",
    "\n",
    "    Returns: None\n",
    "    \"\"\"\n",
    "\n",
    "    well_set1, well_set2 = visSets(set1, set2, path)\n",
    "    well_set1[\"Set\"] = 1\n",
    "    well_set1[\"Well\"].describe()\n",
    "\n",
    "    well_set2[\"Set\"] = 2\n",
    "    well_set2[\"Well\"].describe()\n",
    "\n",
    "    pltoSet1(well_set1)\n",
    "    pltoSet1(well_set2)\n",
    "\n",
    "    print(\"Statistics:\")\n",
    "    print(\"\")\n",
    "\n",
    "    csv_all = pd.concat([well_set1, well_set2])\n",
    "\n",
    "    sns.set_theme(style=\"ticks\")\n",
    "\n",
    "    # Initialize the figure with a logarithmic x axis\n",
    "    f, ax = plt.subplots(figsize=(7, 6))\n",
    "\n",
    "    # Plot the orbital period with horizontal boxes\n",
    "    sns.boxplot(\n",
    "        x=\"Well\",\n",
    "        y=\"Median\",\n",
    "        data=csv_all,\n",
    "        width=0.6,\n",
    "        hue=\"Set\",\n",
    "        palette=[\"m\", \"g\"],\n",
    "    )\n",
    "\n",
    "    # Add in points to show each observation\n",
    "    # sns.swarmplot(x=\"Well\", y=\"Median\", data=B23,\n",
    "    #              size=3, palette=\"vlag\")\n",
    "\n",
    "    # Tweak the visual presentation\n",
    "    # ax.xaxis.grid(True)\n",
    "    ax.set(ylabel=\"Median\")\n",
    "    sns.move_legend(ax, \"upper left\", bbox_to_anchor=(1, 1))\n",
    "    # sns.despine(trim=True, left=True)\n",
    "\n",
    "    for well in set1:\n",
    "        norm_test(csv_all[csv_all[\"Well\"] == well].Median, well)\n",
    "\n",
    "    for well in set2:\n",
    "        norm_test(csv_all[csv_all[\"Well\"] == well].Median, well)\n",
    "\n",
    "    # pvalues with scipy:\n",
    "    stat_results = [\n",
    "        mannwhitneyu(\n",
    "            csv_all[csv_all[\"Well\"] == set1[0]].Median,\n",
    "            csv_all[csv_all[\"Well\"] == set2[0]].Median,\n",
    "            alternative=\"two-sided\",\n",
    "        ),\n",
    "        mannwhitneyu(\n",
    "            csv_all[csv_all[\"Well\"] == set1[0]].Median,\n",
    "            csv_all[csv_all[\"Well\"] == set2[1]].Median,\n",
    "            alternative=\"two-sided\",\n",
    "        ),\n",
    "        mannwhitneyu(\n",
    "            csv_all[csv_all[\"Well\"] == set1[0]].Median,\n",
    "            csv_all[csv_all[\"Well\"] == set2[2]].Median,\n",
    "            alternative=\"two-sided\",\n",
    "        ),\n",
    "        mannwhitneyu(\n",
    "            csv_all[csv_all[\"Well\"] == set1[1]].Median,\n",
    "            csv_all[csv_all[\"Well\"] == set2[0]].Median,\n",
    "            alternative=\"two-sided\",\n",
    "        ),\n",
    "        mannwhitneyu(\n",
    "            csv_all[csv_all[\"Well\"] == set1[1]].Median,\n",
    "            csv_all[csv_all[\"Well\"] == set2[1]].Median,\n",
    "            alternative=\"two-sided\",\n",
    "        ),\n",
    "        mannwhitneyu(\n",
    "            csv_all[csv_all[\"Well\"] == set1[1]].Median,\n",
    "            csv_all[csv_all[\"Well\"] == set2[2]].Median,\n",
    "            alternative=\"two-sided\",\n",
    "        ),\n",
    "        mannwhitneyu(\n",
    "            csv_all[csv_all[\"Well\"] == set1[2]].Median,\n",
    "            csv_all[csv_all[\"Well\"] == set2[0]].Median,\n",
    "            alternative=\"two-sided\",\n",
    "        ),\n",
    "        mannwhitneyu(\n",
    "            csv_all[csv_all[\"Well\"] == set1[2]].Median,\n",
    "            csv_all[csv_all[\"Well\"] == set2[1]].Median,\n",
    "            alternative=\"two-sided\",\n",
    "        ),\n",
    "        mannwhitneyu(\n",
    "            csv_all[csv_all[\"Well\"] == set1[2]].Median,\n",
    "            csv_all[csv_all[\"Well\"] == set2[2]].Median,\n",
    "            alternative=\"two-sided\",\n",
    "        ),\n",
    "        # mannwhitneyu(robots, sound, alternative=\"two-sided\")\n",
    "    ]\n",
    "\n",
    "    pvalues = [result.pvalue for result in stat_results]\n",
    "    print(pvalues)\n",
    "\n",
    "    pairs = [\n",
    "        (set1[0], set2[0]),\n",
    "        (set1[0], set2[1]),\n",
    "        (set1[0], set2[2]),\n",
    "        (set1[1], set2[0]),\n",
    "        (set1[1], set2[1]),\n",
    "        (set1[1], set2[2]),\n",
    "        (set1[2], set2[0]),\n",
    "        (set1[2], set2[1]),\n",
    "        (set1[2], set2[2]),\n",
    "        #  ('Robots', 'Sound')   # 'Robots' vs 'Sound'\n",
    "    ]\n",
    "\n",
    "    formatted_pvalues = [f\"p={p:.2e}\" for p in pvalues]\n",
    "\n",
    "    # prepare plots\n",
    "    subcat_palette = sns.dark_palette(\"#8BF\", reverse=True, n_colors=5)\n",
    "    states_palette = sns.color_palette(\"YlGnBu\", n_colors=5)\n",
    "\n",
    "    cmap = sns.color_palette(\"colorblind\")\n",
    "    plotting_parameters = {\n",
    "        \"data\": csv_all,\n",
    "        \"x\": \"Well\",\n",
    "        \"y\": \"Median\",\n",
    "        \"showfliers\": False,\n",
    "        \"width\": 0.6,\n",
    "        #'hue':\"Set\",\n",
    "        \"palette\": [cmap[0], cmap[1], cmap[4], cmap[0], cmap[1], cmap[4]],\n",
    "    }\n",
    "\n",
    "    # show results\n",
    "    with sns.plotting_context(\"notebook\", font_scale=1.4):\n",
    "        # Create new plot\n",
    "        fig, ax = plt.subplots(1, 1, figsize=(12, 6))\n",
    "\n",
    "        # Plot with seaborn\n",
    "        sns.boxplot(**plotting_parameters)\n",
    "\n",
    "        # Add annotations\n",
    "        annotator = Annotator(ax, pairs, **plotting_parameters)\n",
    "        ## p values\n",
    "        # annotator.set_custom_annotations(formatted_pvalues)\n",
    "        # annotator.annotate()\n",
    "\n",
    "        ## <> p values\n",
    "        annotator.configure(text_format=\"simple\")\n",
    "        annotator.set_pvalues(pvalues).annotate()\n",
    "\n",
    "        # Label and show\n",
    "        plt.title(stat_text, y=1.06)\n",
    "\n",
    "        plt.savefig(\"./\" + fig_name + \".png\", bbox_inches=\"tight\")\n",
    "        plt.show()"
   ]
  },
  {
   "cell_type": "code",
   "execution_count": 107,
   "metadata": {
    "id": "hmbWzQb4ljo9",
    "tags": []
   },
   "outputs": [],
   "source": [
    "# CHOK1 kontrola: B2, C2, D2\n",
    "# vs\n",
    "# CHOK1 Val30:B3, C3, D3; a CHOK1 Val15: B4, C4 a D4\n",
    "\n",
    "# set1 = [\"B2\", \"C2\", \"D2\"] #ok\n",
    "# set2 = [\"B3\", \"C3\", \"D3\"]\n",
    "\n",
    "# set1 = [\"B2\", \"C2\", \"D2\"] #ok\n",
    "# set2 = [\"B4\", \"C4\", \"D4\"]\n",
    "\n",
    "\n",
    "# HeLa kontrola: B6, C6, D6\n",
    "# Vs\n",
    "# CHOK1 Val30:B3, C3, D3; a CHOK1 Val15: B4, C4 a D4\n",
    "\n",
    "# set1 = [\"B6\", \"C6\", \"D6\"] #ok\n",
    "# set2 = [\"B3\", \"C3\", \"D3\"]\n",
    "\n",
    "set1 = [\"B6\", \"C6\", \"D6\"] #ok\n",
    "set2 = [\"B4\", \"C4\", \"D4\"]"
   ]
  },
  {
   "cell_type": "code",
   "execution_count": 108,
   "metadata": {
    "id": "exmV_SZKe8oU"
   },
   "outputs": [],
   "source": [
    "path = \"Results_24h/\""
   ]
  },
  {
   "cell_type": "code",
   "execution_count": 109,
   "metadata": {
    "cellView": "form",
    "colab": {
     "base_uri": "https://localhost:8080/"
    },
    "id": "pwfcdL-klRaM",
    "outputId": "bc2eee48-e5cc-4031-b485-47f0303e4534"
   },
   "outputs": [
    {
     "name": "stdout",
     "output_type": "stream",
     "text": [
      "Files and directories in ' Results_24h/ ' :\n",
      "['B2_AllResults_2023-2-7_Results.csv', 'B3_AllResults_2023-2-7_Results.csv', 'B4_AllResults_2023-2-7_Results.csv', 'B6_AllResults_2023-2-7_Results.csv', 'C2_AllResults_2023-2-7_Results.csv', 'C3_AllResults_2023-2-7_Results.csv', 'C4_AllResults_2023-2-7_Results.csv', 'C6_AllResults_2023-2-7_Results.csv', 'D2_AllResults_2023-2-7_Results.csv', 'D3_AllResults_2023-2-7_Results.csv', 'D4_AllResults_2023-2-7_Results.csv', 'D6_AllResults_2023-2-7_Results.csv']\n"
     ]
    }
   ],
   "source": [
    "# @title\n",
    "dir_list = os.listdir(path)\n",
    "\n",
    "print(\"Files and directories in '\", path, \"' :\")\n",
    "\n",
    "# prints all files\n",
    "print(dir_list)"
   ]
  },
  {
   "cell_type": "code",
   "execution_count": 110,
   "metadata": {},
   "outputs": [
    {
     "name": "stdout",
     "output_type": "stream",
     "text": [
      "Files and directories in ' Results_24h/ ' :\n"
     ]
    },
    {
     "data": {
      "text/plain": [
       "count    21645.000000\n",
       "mean         0.191823\n",
       "std          0.943604\n",
       "min          0.000000\n",
       "25%          0.000000\n",
       "50%          0.000000\n",
       "75%          0.000000\n",
       "max         27.000000\n",
       "Name: Median, dtype: float64"
      ]
     },
     "execution_count": 110,
     "metadata": {},
     "output_type": "execute_result"
    }
   ],
   "source": [
    "well_set1, well_set2 = visSets(set1, set2, path)\n",
    "well_set1[\"Set\"] = 1\n",
    "well_set1.Median.describe()"
   ]
  },
  {
   "cell_type": "code",
   "execution_count": 111,
   "metadata": {},
   "outputs": [
    {
     "data": {
      "text/plain": [
       "count    11910.000000\n",
       "mean         1.370949\n",
       "std          1.864526\n",
       "min          0.000000\n",
       "25%          0.000000\n",
       "50%          1.000000\n",
       "75%          2.000000\n",
       "max         88.000000\n",
       "Name: Median, dtype: float64"
      ]
     },
     "execution_count": 111,
     "metadata": {},
     "output_type": "execute_result"
    }
   ],
   "source": [
    "well_set2[\"Set\"] = 2\n",
    "well_set2.Median.describe()"
   ]
  },
  {
   "cell_type": "code",
   "execution_count": 112,
   "metadata": {},
   "outputs": [
    {
     "data": {
      "image/png": "[encoded data removed]",
      "text/plain": [
       "<Figure size 700x600 with 1 Axes>"
      ]
     },
     "metadata": {},
     "output_type": "display_data"
    }
   ],
   "source": [
    "sns.set_theme(style=\"ticks\")\n",
    "\n",
    "# Initialize the figure with a logarithmic x axis\n",
    "f, ax = plt.subplots(figsize=(7, 6))\n",
    "\n",
    "# Plot the orbital period with horizontal boxes\n",
    "sns.boxplot(x=\"Well\", y=\"Median\", data=well_set1, width=0.6, palette=\"vlag\",showfliers=False,)\n",
    "\n",
    "# Add in points to show each observation\n",
    "# sns.swarmplot(x=\"Well\", y=\"Median\", data=B23,\n",
    "#              size=3, palette=\"vlag\")\n",
    "\n",
    "# Tweak the visual presentation\n",
    "ax.xaxis.grid(True)\n",
    "ax.set(ylabel=\"Median\")\n",
    "sns.despine(trim=True, left=True)"
   ]
  },
  {
   "cell_type": "code",
   "execution_count": 113,
   "metadata": {
    "colab": {
     "base_uri": "https://localhost:8080/",
     "height": 1000
    },
    "id": "M-D-_j8qwKlN",
    "outputId": "f446e555-320b-4934-eb71-4fcac848bc8c"
   },
   "outputs": [
    {
     "name": "stdout",
     "output_type": "stream",
     "text": [
      "Files and directories in ' Results_24h/ ' :\n",
      "Statistics:\n",
      "\n",
      "p = 0\n",
      "null hypothesis: B6 comes from a normal distribution\n",
      "The null hypothesis can be rejected\n",
      "\n",
      "p = 0\n",
      "null hypothesis: C6 comes from a normal distribution\n",
      "The null hypothesis can be rejected\n",
      "\n",
      "p = 0\n",
      "null hypothesis: D6 comes from a normal distribution\n",
      "The null hypothesis can be rejected\n",
      "\n",
      "p = 0\n",
      "null hypothesis: B4 comes from a normal distribution\n",
      "The null hypothesis can be rejected\n",
      "\n",
      "p = 0\n",
      "null hypothesis: C4 comes from a normal distribution\n",
      "The null hypothesis can be rejected\n",
      "\n",
      "p = 0\n",
      "null hypothesis: D4 comes from a normal distribution\n",
      "The null hypothesis can be rejected\n",
      "\n",
      "[0.0, 0.0, 0.0, 3.54684045876805e-293, 2.7551234065767623e-297, 5.386254113723154e-289, 0.0, 0.0, 0.0]\n",
      "D6 vs. B4: Custom statistical test, P_val:0.000e+00\n",
      "C6 vs. B4: Custom statistical test, P_val:3.547e-293\n",
      "D6 vs. C4: Custom statistical test, P_val:0.000e+00\n",
      "B6 vs. B4: Custom statistical test, P_val:0.000e+00\n",
      "C6 vs. C4: Custom statistical test, P_val:2.755e-297\n",
      "D6 vs. D4: Custom statistical test, P_val:0.000e+00\n",
      "B6 vs. C4: Custom statistical test, P_val:0.000e+00\n",
      "C6 vs. D4: Custom statistical test, P_val:5.386e-289\n",
      "B6 vs. D4: Custom statistical test, P_val:0.000e+00\n"
     ]
    },
    {
     "data": {
      "image/png": "[encoded data removed]",
      "text/plain": [
       "<Figure size 700x600 with 1 Axes>"
      ]
     },
     "metadata": {},
     "output_type": "display_data"
    },
    {
     "data": {
      "image/png": "[encoded data removed]",
      "text/plain": [
       "<Figure size 700x600 with 1 Axes>"
      ]
     },
     "metadata": {},
     "output_type": "display_data"
    },
    {
     "data": {
      "image/png": "[encoded data removed]",
      "text/plain": [
       "<Figure size 700x600 with 1 Axes>"
      ]
     },
     "metadata": {},
     "output_type": "display_data"
    },
    {
     "data": {
      "image/png": "[encoded data removed]",
      "text/plain": [
       "<Figure size 1200x600 with 1 Axes>"
      ]
     },
     "metadata": {},
     "output_type": "display_data"
    }
   ],
   "source": [
    "visStats(set1, set2, path, \"Cy3 channel\", \"\".join(set1) + \"\".join(set2))"
   ]
  },
  {
   "cell_type": "code",
   "execution_count": 114,
   "metadata": {
    "colab": {
     "base_uri": "https://localhost:8080/"
    },
    "id": "RwVp89K_DZQm",
    "jupyter": {
     "source_hidden": true
    },
    "outputId": "c595585e-d2d6-420d-bb0f-29277d0963ea",
    "tags": []
   },
   "outputs": [
    {
     "name": "stdout",
     "output_type": "stream",
     "text": [
      "Files and directories in ' Results_24h/ ' :\n",
      "18.223784980465048\n",
      "28.137647211713944\n",
      "Mean Brigthnes\n",
      "0.22312429429429428\n",
      "1.4876109714525607\n",
      "Mean Area\n",
      "0.012243575883575884\n",
      "0.05286906045340051\n",
      "Fold: 1.544006760498768\n"
     ]
    }
   ],
   "source": [
    "well_set1, well_set2 = visSets(set1, set2, path)\n",
    "well_set1[\"Set\"] = 1\n",
    "well_set1[\"Well\"].describe()\n",
    "\n",
    "well_set2[\"Set\"] = 2\n",
    "well_set2[\"Well\"].describe()\n",
    "\n",
    "m2a1 = well_set1[\"Mean\"].mean() / well_set1[\"Area\"].mean()\n",
    "print(m2a1)\n",
    "m2a2 = well_set2[\"Mean\"].mean() / well_set2[\"Area\"].mean()\n",
    "print(m2a2)\n",
    "\n",
    "print(\"Mean Brigthnes\")\n",
    "print(well_set1[\"Mean\"].mean())\n",
    "print(well_set2[\"Mean\"].mean())\n",
    "\n",
    "print(\"Mean Area\")\n",
    "print(well_set1[\"Area\"].mean())\n",
    "print(well_set2[\"Area\"].mean())\n",
    "\n",
    "print(\"Fold: {}\".format(m2a2 / m2a1))"
   ]
  },
  {
   "cell_type": "code",
   "execution_count": 115,
   "metadata": {
    "tags": []
   },
   "outputs": [
    {
     "name": "stdout",
     "output_type": "stream",
     "text": [
      "Last updated: 2023-02-07T14:21:28.434430+01:00\n",
      "\n",
      "Python implementation: CPython\n",
      "Python version       : 3.9.13\n",
      "IPython version      : 8.5.0\n",
      "\n",
      "Compiler    : MSC v.1929 64 bit (AMD64)\n",
      "OS          : Windows\n",
      "Release     : 10\n",
      "Machine     : AMD64\n",
      "Processor   : Intel64 Family 6 Model 60 Stepping 3, GenuineIntel\n",
      "CPU cores   : 8\n",
      "Architecture: 64bit\n",
      "\n"
     ]
    }
   ],
   "source": [
    "watermark(iversions=True, globals_=globals())\n",
    "print(watermark())"
   ]
  },
  {
   "cell_type": "code",
   "execution_count": 116,
   "metadata": {
    "tags": []
   },
   "outputs": [
    {
     "name": "stdout",
     "output_type": "stream",
     "text": [
      "watermark      : 2.3.1\n",
      "numpy          : 1.23.4\n",
      "pandas         : 1.5.1\n",
      "seaborn        : 0.11.2\n",
      "scipy          : 1.9.3\n",
      "statannotations: 0.5.0\n",
      "statsmodels    : 0.13.5\n",
      "\n"
     ]
    }
   ],
   "source": [
    "print(\n",
    "    watermark(\n",
    "        packages=\"watermark,numpy,pandas,seaborn,scipy,statannotations,statsmodels\"\n",
    "    )\n",
    ")"
   ]
  },
  {
   "cell_type": "code",
   "execution_count": null,
   "metadata": {},
   "outputs": [],
   "source": []
  }
 ],
 "metadata": {
  "colab": {
   "provenance": []
  },
  "kernelspec": {
   "display_name": "Python 3 (ipykernel)",
   "language": "python",
   "name": "python3"
  },
  "language_info": {
   "codemirror_mode": {
    "name": "ipython",
    "version": 3
   },
   "file_extension": ".py",
   "mimetype": "text/x-python",
   "name": "python",
   "nbconvert_exporter": "python",
   "pygments_lexer": "ipython3",
   "version": "3.9.13"
  }
 },
 "nbformat": 4,
 "nbformat_minor": 4
}
