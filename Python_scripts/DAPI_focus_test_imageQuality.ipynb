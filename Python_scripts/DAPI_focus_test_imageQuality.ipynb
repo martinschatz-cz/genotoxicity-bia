{
 "cells": [
  {
   "cell_type": "code",
   "execution_count": 1,
   "id": "f8c21c31-c11a-402b-be64-9931b902b0c2",
   "metadata": {
    "tags": []
   },
   "outputs": [
    {
     "name": "stderr",
     "output_type": "stream",
     "text": [
      "ERROR: Could not open requirements file: [Errno 2] No such file or directory: 'requirements.txt'\n"
     ]
    },
    {
     "name": "stdout",
     "output_type": "stream",
     "text": [
      "Collecting git+https://github.com/sakoho81/pyimagequalityranking.git\n",
      "  Cloning https://github.com/sakoho81/pyimagequalityranking.git to c:\\users\\mspat\\appdata\\local\\temp\\pip-req-build-d9szeb4z\n",
      "  Resolved https://github.com/sakoho81/pyimagequalityranking.git to commit 094b0b9f79f7f78853a79d71be686f91491e0574\n",
      "  Preparing metadata (setup.py): started\n",
      "  Preparing metadata (setup.py): finished with status 'done'\n",
      "Requirement already satisfied: numpy in c:\\users\\mspat\\.conda\\envs\\julab\\lib\\site-packages (from pyimq==0.1) (1.24.1)\n",
      "Requirement already satisfied: scipy in c:\\users\\mspat\\.conda\\envs\\julab\\lib\\site-packages (from pyimq==0.1) (1.10.0)\n",
      "Requirement already satisfied: pandas in c:\\users\\mspat\\.conda\\envs\\julab\\lib\\site-packages (from pyimq==0.1) (1.5.3)\n",
      "Requirement already satisfied: matplotlib in c:\\users\\mspat\\.conda\\envs\\julab\\lib\\site-packages (from pyimq==0.1) (3.6.3)\n",
      "Requirement already satisfied: contourpy>=1.0.1 in c:\\users\\mspat\\.conda\\envs\\julab\\lib\\site-packages (from matplotlib->pyimq==0.1) (1.0.7)\n",
      "Requirement already satisfied: packaging>=20.0 in c:\\users\\mspat\\.conda\\envs\\julab\\lib\\site-packages (from matplotlib->pyimq==0.1) (23.0)\n",
      "Requirement already satisfied: fonttools>=4.22.0 in c:\\users\\mspat\\.conda\\envs\\julab\\lib\\site-packages (from matplotlib->pyimq==0.1) (4.38.0)\n",
      "Requirement already satisfied: kiwisolver>=1.0.1 in c:\\users\\mspat\\.conda\\envs\\julab\\lib\\site-packages (from matplotlib->pyimq==0.1) (1.4.4)\n",
      "Requirement already satisfied: cycler>=0.10 in c:\\users\\mspat\\.conda\\envs\\julab\\lib\\site-packages (from matplotlib->pyimq==0.1) (0.11.0)\n",
      "Requirement already satisfied: pyparsing>=2.2.1 in c:\\users\\mspat\\.conda\\envs\\julab\\lib\\site-packages (from matplotlib->pyimq==0.1) (3.0.9)\n",
      "Requirement already satisfied: python-dateutil>=2.7 in c:\\users\\mspat\\.conda\\envs\\julab\\lib\\site-packages (from matplotlib->pyimq==0.1) (2.8.2)\n",
      "Requirement already satisfied: pillow>=6.2.0 in c:\\users\\mspat\\.conda\\envs\\julab\\lib\\site-packages (from matplotlib->pyimq==0.1) (9.4.0)\n",
      "Requirement already satisfied: pytz>=2020.1 in c:\\users\\mspat\\.conda\\envs\\julab\\lib\\site-packages (from pandas->pyimq==0.1) (2022.7.1)\n",
      "Requirement already satisfied: six>=1.5 in c:\\users\\mspat\\.conda\\envs\\julab\\lib\\site-packages (from python-dateutil>=2.7->matplotlib->pyimq==0.1) (1.16.0)\n"
     ]
    },
    {
     "name": "stderr",
     "output_type": "stream",
     "text": [
      "  Running command git clone --filter=blob:none --quiet https://github.com/sakoho81/pyimagequalityranking.git 'C:\\Users\\mspat\\AppData\\Local\\Temp\\pip-req-build-d9szeb4z'\n"
     ]
    }
   ],
   "source": [
    "!pip install -r requirements.txt\n",
    "!pip install git+https://github.com/sakoho81/pyimagequalityranking.git"
   ]
  },
  {
   "cell_type": "code",
   "execution_count": 2,
   "id": "e7e643ff-cc74-4d8c-acea-3c22aa6a9f6a",
   "metadata": {
    "tags": []
   },
   "outputs": [
    {
     "name": "stdout",
     "output_type": "stream",
     "text": [
      "Mode option is ['directory', 'analyze', 'plot']\n",
      "Done analyzing Snapshot20230209_DMSO_DAPI_TIF.tif\n",
      "Done analyzing Snapshot20230209_Val15_DAPI_TIF.tif\n",
      "Done analyzing Snapshot20230209_Val30_DAPI_TIF.tif\n",
      "The results were saved to DAPI\\2023-02-09_PyIQ_output\\18-43-45_PyIQ_out.csv\n",
      "The results were saved to DAPI\\2023-02-09_PyIQ_output\\18-43-49_PyIQ_analyze_out.csv\n",
      "DAPI\\Snapshot20230209_DMSO_DAPI_TIF.tif\n",
      "DAPI\\Snapshot20230209_Val30_DAPI_TIF.tif\n",
      "DAPI\\Snapshot20230209_Val30_DAPI_TIF.tif\n",
      "Figure(640x480)\n",
      "DAPI\\Snapshot20230209_DMSO_DAPI_TIF.tif\n",
      "DAPI\\Snapshot20230209_Val30_DAPI_TIF.tif\n",
      "DAPI\\Snapshot20230209_Val30_DAPI_TIF.tif\n",
      "Figure(640x480)\n"
     ]
    }
   ],
   "source": [
    "!pyimq.main --mode=directory --mode=analyze --mode=plot \\\n",
    "--working-directory=DAPI --normalize-power --result=fstd"
   ]
  },
  {
   "cell_type": "code",
   "execution_count": 3,
   "id": "a2f66209-cb75-4e9d-9cb9-cd9c03ef6bcf",
   "metadata": {
    "tags": []
   },
   "outputs": [],
   "source": [
    "import pandas as pd\n",
    "import seaborn as sns"
   ]
  },
  {
   "cell_type": "code",
   "execution_count": 4,
   "id": "2492312c-d590-4647-b703-f64702da8175",
   "metadata": {
    "tags": []
   },
   "outputs": [
    {
     "data": {
      "text/html": [
       "<div>\n",
       "<style scoped>\n",
       "    .dataframe tbody tr th:only-of-type {\n",
       "        vertical-align: middle;\n",
       "    }\n",
       "\n",
       "    .dataframe tbody tr th {\n",
       "        vertical-align: top;\n",
       "    }\n",
       "\n",
       "    .dataframe thead th {\n",
       "        text-align: right;\n",
       "    }\n",
       "</style>\n",
       "<table border=\"1\" class=\"dataframe\">\n",
       "  <thead>\n",
       "    <tr style=\"text-align: right;\">\n",
       "      <th></th>\n",
       "      <th>Filename</th>\n",
       "      <th>tEntropy</th>\n",
       "      <th>tBrenner</th>\n",
       "      <th>fMoments</th>\n",
       "      <th>fMean</th>\n",
       "      <th>fSTD</th>\n",
       "      <th>fEntropy</th>\n",
       "      <th>fTh</th>\n",
       "      <th>fMaxPw</th>\n",
       "      <th>Skew</th>\n",
       "      <th>...</th>\n",
       "      <th>SpectMean</th>\n",
       "      <th>SpectSTDNorm</th>\n",
       "      <th>InvSpectSTDNorm</th>\n",
       "      <th>SpectEntNorm</th>\n",
       "      <th>SkewNorm</th>\n",
       "      <th>KurtosisNorm</th>\n",
       "      <th>SpectHighPowerNorm</th>\n",
       "      <th>MeanBinNorm</th>\n",
       "      <th>BrennerNorm</th>\n",
       "      <th>SpectMomentsNorm</th>\n",
       "    </tr>\n",
       "  </thead>\n",
       "  <tbody>\n",
       "    <tr>\n",
       "      <th>0</th>\n",
       "      <td>DAPI\\Snapshot20230209_DMSO_DAPI_TIF.tif</td>\n",
       "      <td>2.831123</td>\n",
       "      <td>7.374816e+10</td>\n",
       "      <td>39.518144</td>\n",
       "      <td>43565.783260</td>\n",
       "      <td>15435.811377</td>\n",
       "      <td>4.407279</td>\n",
       "      <td>2.384615e+09</td>\n",
       "      <td>32166.488742</td>\n",
       "      <td>1.244357</td>\n",
       "      <td>...</td>\n",
       "      <td>1.000000</td>\n",
       "      <td>1.000000</td>\n",
       "      <td>0.000000</td>\n",
       "      <td>0.979995</td>\n",
       "      <td>0.063087</td>\n",
       "      <td>0.893932</td>\n",
       "      <td>1.000000</td>\n",
       "      <td>1.000000</td>\n",
       "      <td>1.000000</td>\n",
       "      <td>0.872586</td>\n",
       "    </tr>\n",
       "    <tr>\n",
       "      <th>1</th>\n",
       "      <td>DAPI\\Snapshot20230209_Val30_DAPI_TIF.tif</td>\n",
       "      <td>1.897857</td>\n",
       "      <td>4.586107e+10</td>\n",
       "      <td>45.288557</td>\n",
       "      <td>36892.338661</td>\n",
       "      <td>14916.820124</td>\n",
       "      <td>4.377870</td>\n",
       "      <td>2.407059e+09</td>\n",
       "      <td>25953.156533</td>\n",
       "      <td>1.230421</td>\n",
       "      <td>...</td>\n",
       "      <td>0.846819</td>\n",
       "      <td>0.966377</td>\n",
       "      <td>0.033623</td>\n",
       "      <td>0.973455</td>\n",
       "      <td>0.073579</td>\n",
       "      <td>1.000000</td>\n",
       "      <td>0.806838</td>\n",
       "      <td>0.929250</td>\n",
       "      <td>0.621861</td>\n",
       "      <td>1.000000</td>\n",
       "    </tr>\n",
       "    <tr>\n",
       "      <th>2</th>\n",
       "      <td>DAPI\\Snapshot20230209_Val15_DAPI_TIF.tif</td>\n",
       "      <td>2.014531</td>\n",
       "      <td>5.092208e+10</td>\n",
       "      <td>39.478721</td>\n",
       "      <td>31639.676205</td>\n",
       "      <td>8274.495031</td>\n",
       "      <td>4.497248</td>\n",
       "      <td>2.346330e+09</td>\n",
       "      <td>25486.225608</td>\n",
       "      <td>1.328145</td>\n",
       "      <td>...</td>\n",
       "      <td>0.726251</td>\n",
       "      <td>0.536058</td>\n",
       "      <td>0.463942</td>\n",
       "      <td>1.000000</td>\n",
       "      <td>0.000000</td>\n",
       "      <td>0.867973</td>\n",
       "      <td>0.792322</td>\n",
       "      <td>0.613161</td>\n",
       "      <td>0.690486</td>\n",
       "      <td>0.871715</td>\n",
       "    </tr>\n",
       "  </tbody>\n",
       "</table>\n",
       "<p>3 rows × 24 columns</p>\n",
       "</div>"
      ],
      "text/plain": [
       "                                   Filename  tEntropy      tBrenner  \\\n",
       "0   DAPI\\Snapshot20230209_DMSO_DAPI_TIF.tif  2.831123  7.374816e+10   \n",
       "1  DAPI\\Snapshot20230209_Val30_DAPI_TIF.tif  1.897857  4.586107e+10   \n",
       "2  DAPI\\Snapshot20230209_Val15_DAPI_TIF.tif  2.014531  5.092208e+10   \n",
       "\n",
       "    fMoments         fMean          fSTD  fEntropy           fTh  \\\n",
       "0  39.518144  43565.783260  15435.811377  4.407279  2.384615e+09   \n",
       "1  45.288557  36892.338661  14916.820124  4.377870  2.407059e+09   \n",
       "2  39.478721  31639.676205   8274.495031  4.497248  2.346330e+09   \n",
       "\n",
       "         fMaxPw      Skew  ...  SpectMean  SpectSTDNorm  InvSpectSTDNorm  \\\n",
       "0  32166.488742  1.244357  ...   1.000000      1.000000         0.000000   \n",
       "1  25953.156533  1.230421  ...   0.846819      0.966377         0.033623   \n",
       "2  25486.225608  1.328145  ...   0.726251      0.536058         0.463942   \n",
       "\n",
       "   SpectEntNorm  SkewNorm  KurtosisNorm  SpectHighPowerNorm  MeanBinNorm  \\\n",
       "0      0.979995  0.063087      0.893932            1.000000     1.000000   \n",
       "1      0.973455  0.073579      1.000000            0.806838     0.929250   \n",
       "2      1.000000  0.000000      0.867973            0.792322     0.613161   \n",
       "\n",
       "   BrennerNorm  SpectMomentsNorm  \n",
       "0     1.000000          0.872586  \n",
       "1     0.621861          1.000000  \n",
       "2     0.690486          0.871715  \n",
       "\n",
       "[3 rows x 24 columns]"
      ]
     },
     "execution_count": 4,
     "metadata": {},
     "output_type": "execute_result"
    }
   ],
   "source": [
    "imaq_24h=pd.read_csv('DAPI/2023-02-09_PyIQ_output/18-43-49_PyIQ_analyze_out.csv')\n",
    "imaq_24h.tail()"
   ]
  },
  {
   "cell_type": "code",
   "execution_count": 5,
   "id": "bb44cb50-a5b8-418b-972e-a8dd4a0b8dcf",
   "metadata": {
    "tags": []
   },
   "outputs": [
    {
     "data": {
      "text/plain": [
       "<AxesSubplot: xlabel='fSTD', ylabel='Count'>"
      ]
     },
     "execution_count": 5,
     "metadata": {},
     "output_type": "execute_result"
    },
    {
     "data": {
      "image/png": "[encoded data removed]",
      "text/plain": [
       "<Figure size 700x500 with 1 Axes>"
      ]
     },
     "metadata": {},
     "output_type": "display_data"
    }
   ],
   "source": [
    "import seaborn as sns\n",
    "import matplotlib as mpl\n",
    "import matplotlib.pyplot as plt\n",
    "\n",
    "sns.set_theme(style=\"ticks\")\n",
    "\n",
    "f, ax = plt.subplots(figsize=(7, 5))\n",
    "sns.despine(f)\n",
    "\n",
    "sns.histplot(\n",
    "    data=imaq_24h, \n",
    "    x=\"fSTD\", \n",
    "    kde=True,\n",
    "    edgecolor=\".3\",\n",
    "    linewidth=.5,\n",
    ")\n",
    "# ax.xaxis.set_major_formatter(mpl.ticker.ScalarFormatter())\n",
    "# ax.set_xticks([5, 10, 20, 30, 50, 100])"
   ]
  },
  {
   "cell_type": "code",
   "execution_count": 7,
   "id": "f144f170-ea0a-4a40-8f50-4868f127d4b3",
   "metadata": {
    "tags": []
   },
   "outputs": [
    {
     "data": {
      "text/plain": [
       "<seaborn.axisgrid.FacetGrid at 0x1cdf3535fd0>"
      ]
     },
     "execution_count": 7,
     "metadata": {},
     "output_type": "execute_result"
    },
    {
     "data": {
      "image/png": "[encoded data removed]",
      "text/plain": [
       "<Figure size 695.875x500 with 1 Axes>"
      ]
     },
     "metadata": {},
     "output_type": "display_data"
    }
   ],
   "source": [
    "sns.set_theme(style=\"whitegrid\")\n",
    "\n",
    "\n",
    "cmap = sns.cubehelix_palette(rot=-.2, as_cmap=True)\n",
    "g = sns.relplot(\n",
    "    data=imaq_24h,\n",
    "    x=\"fSTD\", y=\"fMean\",\n",
    "    hue=\"fEntropy\",# size=\"fEntropy\",\n",
    "    palette=cmap, sizes=(10, 200),\n",
    ")\n",
    "# g.set(xscale=\"log\", yscale=\"log\")\n",
    "g.ax.xaxis.grid(True, \"minor\", linewidth=.25)\n",
    "g.ax.yaxis.grid(True, \"minor\", linewidth=.25)\n",
    "g.despine(left=True, bottom=True)"
   ]
  },
  {
   "cell_type": "code",
   "execution_count": 10,
   "id": "162f8050-7cfd-42a7-b85c-9b0168f8aa88",
   "metadata": {},
   "outputs": [],
   "source": [
    "imaq_24h_sel=imaq_24h[imaq_24h['fSTD']<3]"
   ]
  },
  {
   "cell_type": "code",
   "execution_count": 12,
   "id": "c201cf68-fee0-4dfd-aaf1-8789a6a58311",
   "metadata": {},
   "outputs": [
    {
     "data": {
      "text/plain": [
       "31"
      ]
     },
     "execution_count": 12,
     "metadata": {},
     "output_type": "execute_result"
    }
   ],
   "source": [
    "imaq_24h_sel.Filename.count()"
   ]
  },
  {
   "cell_type": "code",
   "execution_count": 15,
   "id": "efc41ad1-5084-46c1-afa8-a5a67ac29032",
   "metadata": {},
   "outputs": [],
   "source": [
    "imaq_24h_sel.to_csv('20230206_CHOK1_HeLa_24h_filterOut.csv', sep=\";\") "
   ]
  },
  {
   "cell_type": "code",
   "execution_count": null,
   "id": "928f1610-4c7e-403d-9f09-bb7fd0ac5b11",
   "metadata": {},
   "outputs": [],
   "source": []
  }
 ],
 "metadata": {
  "kernelspec": {
   "display_name": "Python 3 (ipykernel)",
   "language": "python",
   "name": "python3"
  },
  "language_info": {
   "codemirror_mode": {
    "name": "ipython",
    "version": 3
   },
   "file_extension": ".py",
   "mimetype": "text/x-python",
   "name": "python",
   "nbconvert_exporter": "python",
   "pygments_lexer": "ipython3",
   "version": "3.9.16"
  }
 },
 "nbformat": 4,
 "nbformat_minor": 5
}
